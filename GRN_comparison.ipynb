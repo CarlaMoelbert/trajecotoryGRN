{
 "cells": [
  {
   "cell_type": "code",
   "execution_count": 1,
   "id": "2eeeb715-d968-4cad-9b41-6ac461b53dca",
   "metadata": {},
   "outputs": [],
   "source": [
    "import pandas as pd\n",
    "from utils import get_centralities, multi_compare_plot\n",
    "\n",
    "gois = [\"ZFPM1\", \"GATA2\", \"GATA1\", \"SPI1\", \"CEBPA\", \"TAL1\", \"FLI1\",\n",
    "                    \"KLF1\", \"EGR1\", \"EGR2\", \"NAB2\",\"GFI1\"]\n",
    "\n",
    "cols = [\"gene\", \"rank_id\", \"HSC_TFactivity\", \"Early Erythroid_TFactivity\",\n",
    "        \"Late Erythroid_TFactivity\"]"
   ]
  },
  {
   "cell_type": "code",
   "execution_count": 3,
   "id": "0aa6adab-f703-4524-9ac2-ef318bd205f0",
   "metadata": {},
   "outputs": [
    {
     "name": "stderr",
     "output_type": "stream",
     "text": [
      "Looks like you are using a tranform that doesn't support FancyArrowPatch, using ax.annotate instead. The arrows might strike through texts. Increasing shrinkA in arrowprops might help.\n"
     ]
    },
    {
     "name": "stdout",
     "output_type": "stream",
     "text": [
      "📸 Plot saved as: figures_2703/TFActivity_comparison_Eryth.png\n"
     ]
    }
   ],
   "source": [
    "edges_overall = pd.read_csv(\"figures_1703/Eryth_overall_25_075_002_2000_50_500_edges_final_exprWeights.csv\", \n",
    "                            index_col=0)\n",
    "edges_cellstate = pd.read_csv(\"figures_1703/Eryth_cellstate_25_075_002_2000_50_500_edges_final_exprWeights.csv\", \n",
    "                              index_col=0)\n",
    "\n",
    "nodes_overall = pd.read_csv(\"figures_1703/Eryth_overall_25_075_002_2000_50_500_nodes_final_exprWeights.csv\",\n",
    "                            index_col=0)\n",
    "nodes_cellstate = pd.read_csv(\"figures_1703/Eryth_cellstate_25_075_002_2000_50_500_nodes_final_exprWeights.csv\",\n",
    "                              index_col=0)\n",
    "\n",
    "nodes_overall = nodes_overall[cols]\n",
    "nodes_cellstate = nodes_cellstate[cols]\n",
    "\n",
    "nodes_overall = get_centralities(edges_overall, nodes_overall)\n",
    "nodes_cellstate = get_centralities(edges_cellstate, nodes_cellstate)\n",
    "\n"
   ]
  },
  {
   "cell_type": "code",
   "execution_count": null,
   "id": "4a9bd4a0-b6cb-4501-bc1c-29b22dfd1f1d",
   "metadata": {},
   "outputs": [],
   "source": [
    "multi_compare_plot(nodes_overall,nodes_cellstate,\n",
    "                   [ \"HSC_TFactivity\", \"Early Erythroid_TFactivity\",\n",
    "                    \"Late Erythroid_TFactivity\"],\n",
    "                   \"figures_2703/TFActivity_comparison_Eryth.png\",\n",
    "                   id_col=\"gene\", label_top_n=5, title_prefix=\"Comparison\")"
   ]
  },
  {
   "cell_type": "code",
   "execution_count": 4,
   "id": "b5ec8405-7efc-4ed8-8455-1706de7d6683",
   "metadata": {},
   "outputs": [
    {
     "name": "stdout",
     "output_type": "stream",
     "text": [
      "📸 Plot saved as: figures_2703/Centrality_comparison_Eryth.png\n"
     ]
    }
   ],
   "source": [
    "multi_compare_plot(nodes_overall,nodes_cellstate,  \n",
    "                   [\"Betweenness\", \"Closeness\", \"In-Degree\", \"Out-Degree\"],\n",
    "                   \"figures_2703/Centrality_comparison_Eryth.png\",\n",
    "                   id_col=\"gene\", label_top_n=5, title_prefix=\"Comparison\")"
   ]
  },
  {
   "cell_type": "code",
   "execution_count": 5,
   "id": "09716080-8326-499d-bb5c-86f209bf95ce",
   "metadata": {},
   "outputs": [
    {
     "name": "stdout",
     "output_type": "stream",
     "text": [
      "(134, 11)\n",
      "(150, 11)\n",
      "📸 Plot saved as: figures_2703/TFActivity_comparison_Mono.png\n"
     ]
    }
   ],
   "source": [
    "edges_overall = pd.read_csv(\"figures_1703/Mono_overall_25_075_002_2000_50_500_edges_final_exprWeights.csv\", index_col=0)\n",
    "edges_cellstate = pd.read_csv(\"figures_1703/Mono_cellstate_25_075_002_2000_50_500_edges_final_exprWeights.csv\", index_col=0)\n",
    "\n",
    "nodes_overall = pd.read_csv(\"figures_1703/Mono_overall_25_075_002_2000_50_500_nodes_final_exprWeights.csv\", index_col=0)\n",
    "nodes_cellstate = pd.read_csv(\"figures_1703/Mono_cellstate_25_075_002_2000_50_500_nodes_final_exprWeights.csv\", index_col=0)\n",
    "\n",
    "cols = [\"gene\", \"rank_id\", \"HSC_TFactivity\", \"CMP LMPP_TFactivity\", \"GMP_TFactivity\", \"CD14 Monocyte_TFactivity\"]\n",
    "nodes_overall = nodes_overall[cols]\n",
    "nodes_cellstate = nodes_cellstate[cols]\n",
    "\n",
    "nodes_overall = get_centralities(edges_overall, nodes_overall)\n",
    "nodes_cellstate = get_centralities(edges_cellstate, nodes_cellstate)\n",
    "multi_compare_plot(nodes_overall,nodes_cellstate, \n",
    "                   \n",
    "                   [ \"HSC_TFactivity\", \"CMP LMPP_TFactivity\", \"GMP_TFactivity\", \"CD14 Monocyte_TFactivity\"],\n",
    "                   \"figures_2703/TFActivity_comparison_Mono.png\",\n",
    "                   id_col=\"gene\", label_top_n=5, title_prefix=\"Comparison\")"
   ]
  },
  {
   "cell_type": "code",
   "execution_count": 6,
   "id": "db9066d4-44e0-4fab-a093-7b83936ff514",
   "metadata": {},
   "outputs": [
    {
     "name": "stdout",
     "output_type": "stream",
     "text": [
      "📸 Plot saved as: figures_2703/Centrality_comparison_Mono.png\n"
     ]
    }
   ],
   "source": [
    "multi_compare_plot(nodes_overall,nodes_cellstate, \n",
    "                   \n",
    "                   [\"Betweenness\", \"Closeness\", \"In-Degree\", \"Out-Degree\"],\n",
    "                   \"figures_2703/Centrality_comparison_Mono.png\",\n",
    "                   id_col=\"gene\", label_top_n=5, title_prefix=\"Comparison\")"
   ]
  },
  {
   "cell_type": "code",
   "execution_count": 7,
   "id": "98624c49-e2c1-4ad1-9ba7-fcec32ade89b",
   "metadata": {},
   "outputs": [
    {
     "name": "stdout",
     "output_type": "stream",
     "text": [
      "(135, 10)\n",
      "(150, 10)\n",
      "📸 Plot saved as: figures_2703/TFActivity_comparison_bcell.png\n"
     ]
    }
   ],
   "source": [
    "edges_overall = pd.read_csv(\"figures_1703/bcell_overall_25_075_002_2000_50_500_edges_final_exprWeights.csv\", index_col=0)\n",
    "edges_cellstate = pd.read_csv(\"figures_2703/curatedbcell_edges_final_exprWeights.csv\", index_col=0)\n",
    "\n",
    "nodes_overall = pd.read_csv(\"figures_1703/bcell_overall_25_075_002_2000_50_500_nodes_final_exprWeights.csv\", index_col=0)\n",
    "nodes_cellstate = pd.read_csv(\"figures_2703/curatedbcell_nodes_final_exprWeights.csv\", index_col=0)\n",
    "\n",
    "cols = [\"gene\", \"rank_id\", \"B2_TFactivity\", \"Int_TFactivity\", \"B1_TFactivity\"]\n",
    "nodes_overall = nodes_overall[cols]\n",
    "nodes_cellstate = nodes_cellstate[cols]\n",
    "\n",
    "nodes_overall = get_centralities(edges_overall, nodes_overall)\n",
    "print(nodes_overall.shape)\n",
    "nodes_cellstate = get_centralities(edges_cellstate, nodes_cellstate)\n",
    "print(nodes_cellstate.shape)\n",
    "multi_compare_plot(nodes_overall,nodes_cellstate, \n",
    "                   \n",
    "                   [\"B2_TFactivity\", \"Int_TFactivity\", \"B1_TFactivity\"],\n",
    "                   \"figures_2703/TFActivity_comparison_bcell.png\",\n",
    "                   id_col=\"gene\", label_top_n=20, title_prefix=\"Comparison\",\n",
    "                  name1 = \"Selected DEGs\", name2=\"Curated DEGs\")"
   ]
  },
  {
   "cell_type": "code",
   "execution_count": 8,
   "id": "b5051767-4358-42e6-89a9-61deed08a6a4",
   "metadata": {},
   "outputs": [
    {
     "name": "stdout",
     "output_type": "stream",
     "text": [
      "📸 Plot saved as: figures_2703/Centrality_comparison_bcell.png\n"
     ]
    }
   ],
   "source": [
    "multi_compare_plot(nodes_overall,nodes_cellstate, \n",
    "                   \n",
    "                   [\"Betweenness\", \"Closeness\", \"In-Degree\", \"Out-Degree\"],\n",
    "                   \"figures_2703/Centrality_comparison_bcell.png\",\n",
    "                   id_col=\"gene\", label_top_n=20, title_prefix=\"Comparison\",\n",
    "                  name1 = \"Selected DEGs\", name2=\"Curated DEGs\")"
   ]
  },
  {
   "cell_type": "code",
   "execution_count": null,
   "id": "38dbd823-7eb5-4ac0-92bf-b5f760816968",
   "metadata": {},
   "outputs": [],
   "source": []
  }
 ],
 "metadata": {
  "kernelspec": {
   "display_name": "Python 3 (ipykernel)",
   "language": "python",
   "name": "python3"
  },
  "language_info": {
   "codemirror_mode": {
    "name": "ipython",
    "version": 3
   },
   "file_extension": ".py",
   "mimetype": "text/x-python",
   "name": "python",
   "nbconvert_exporter": "python",
   "pygments_lexer": "ipython3",
   "version": "3.12.5"
  }
 },
 "nbformat": 4,
 "nbformat_minor": 5
}
